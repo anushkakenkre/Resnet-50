{
  "cells": [
    {
      "cell_type": "markdown",
      "metadata": {
        "id": "view-in-github",
        "colab_type": "text"
      },
      "source": [
        "<a href=\"https://colab.research.google.com/github/anushkakenkre/Resnet-50/blob/main/Resnet_50_test_1.ipynb\" target=\"_parent\"><img src=\"https://colab.research.google.com/assets/colab-badge.svg\" alt=\"Open In Colab\"/></a>"
      ]
    },
    {
      "cell_type": "code",
      "execution_count": null,
      "metadata": {
        "id": "KnaRnA6wD7wo"
      },
      "outputs": [],
      "source": [
        "import zipfile\n",
        "zip_ref = zipfile.ZipFile('/content/train.zip','r')\n",
        "zip_ref.extractall('/content')\n",
        "zip_ref.close()"
      ]
    },
    {
      "cell_type": "code",
      "execution_count": null,
      "metadata": {
        "id": "-gS9OsTZGVvY"
      },
      "outputs": [],
      "source": [
        "import zipfile\n",
        "zip_ref = zipfile.ZipFile('/content/test.zip','r')\n",
        "zip_ref.extractall('/content')\n",
        "zip_ref.close()"
      ]
    },
    {
      "cell_type": "code",
      "execution_count": null,
      "metadata": {
        "id": "l9tnfaEvGarN"
      },
      "outputs": [],
      "source": [
        "import zipfile\n",
        "zip_ref = zipfile.ZipFile('/content/valid.zip','r')\n",
        "zip_ref.extractall('/content')\n",
        "zip_ref.close()"
      ]
    },
    {
      "cell_type": "code",
      "execution_count": null,
      "metadata": {
        "colab": {
          "base_uri": "https://localhost:8080/"
        },
        "id": "pq6QZbTIBM57",
        "outputId": "18a3ea0c-f459-4e11-c36b-db930e2a5209"
      },
      "outputs": [
        {
          "output_type": "stream",
          "name": "stdout",
          "text": [
            "2.15.0\n"
          ]
        }
      ],
      "source": [
        "from keras.preprocessing.image import ImageDataGenerator\n",
        "import keras\n",
        "from keras.models import Sequential\n",
        "from keras.layers import Input, Dense\n",
        "from keras.applications import ResNet50\n",
        "from keras.applications.resnet50 import preprocess_input\n",
        "print(keras.__version__)"
      ]
    },
    {
      "cell_type": "code",
      "execution_count": null,
      "metadata": {
        "id": "hVdGwO6WBh_4"
      },
      "outputs": [],
      "source": [
        "num_classes = 2\n",
        "\n",
        "image_resize = 224\n",
        "\n",
        "batch_size_training = 100\n",
        "batch_size_validation = 100"
      ]
    },
    {
      "cell_type": "code",
      "execution_count": null,
      "metadata": {
        "id": "ij4pJiGzCHf_"
      },
      "outputs": [],
      "source": [
        "data_generator = ImageDataGenerator(\n",
        "    preprocessing_function=preprocess_input,\n",
        ")"
      ]
    },
    {
      "cell_type": "code",
      "execution_count": null,
      "metadata": {
        "colab": {
          "base_uri": "https://localhost:8080/"
        },
        "id": "jfU6OEOQCqnF",
        "outputId": "b21fd3eb-a575-4613-e0f4-d3ff67791967"
      },
      "outputs": [
        {
          "output_type": "stream",
          "name": "stdout",
          "text": [
            "Found 2337 images belonging to 2 classes.\n"
          ]
        }
      ],
      "source": [
        "train_generator = data_generator.flow_from_directory(\n",
        "    '/content/train',\n",
        "    target_size=(image_resize, image_resize),\n",
        "    batch_size=batch_size_training,\n",
        "    class_mode='categorical')\n"
      ]
    },
    {
      "cell_type": "code",
      "execution_count": null,
      "metadata": {
        "colab": {
          "base_uri": "https://localhost:8080/"
        },
        "id": "gTKUOBbjMe4t",
        "outputId": "b312785e-02bc-41c3-b40f-1dacb35a629d"
      },
      "outputs": [
        {
          "output_type": "stream",
          "name": "stdout",
          "text": [
            "Original Data Types:\n",
            "Violence: float32\n",
            "Non_Violence: float32\n",
            "\n",
            "Converted Data Types:\n",
            "Violence: int64\n",
            "Non_Violence: int64\n"
          ]
        }
      ],
      "source": [
        "import numpy as np\n",
        "\n",
        "\n",
        "# Optionally, check the data types before conversion\n",
        "data_batch = next(train_generator)\n",
        "print(\"Original Data Types:\")\n",
        "print(\"Violence:\", data_batch[0].dtype)\n",
        "print(\"Non_Violence:\", data_batch[1].dtype)\n",
        "\n",
        "# Convert the image dataset from float32 to int64\n",
        "train_generator = ((np.array(batch[0], dtype=np.int64), np.array(batch[1], dtype=np.int64)) for batch in train_generator)\n",
        "\n",
        "# Optionally, check the data types after conversion\n",
        "data_batch = next(train_generator)\n",
        "print(\"\\nConverted Data Types:\")\n",
        "print(\"Violence:\", data_batch[0].dtype)\n",
        "print(\"Non_Violence:\", data_batch[1].dtype)\n"
      ]
    },
    {
      "cell_type": "code",
      "execution_count": null,
      "metadata": {
        "colab": {
          "base_uri": "https://localhost:8080/"
        },
        "id": "mcnbVNYECvW8",
        "outputId": "fd256c05-79e2-41df-9d5d-250b1b88c040"
      },
      "outputs": [
        {
          "output_type": "stream",
          "name": "stdout",
          "text": [
            "Found 662 images belonging to 2 classes.\n"
          ]
        }
      ],
      "source": [
        "validation_generator = data_generator.flow_from_directory(\n",
        "    '/content/valid',\n",
        "    target_size=(image_resize, image_resize),\n",
        "    batch_size=batch_size_validation,\n",
        "    class_mode='categorical')"
      ]
    },
    {
      "cell_type": "code",
      "execution_count": null,
      "metadata": {
        "colab": {
          "base_uri": "https://localhost:8080/"
        },
        "id": "nIZX_q25MsbM",
        "outputId": "60df4b3c-3608-4dd3-df86-b5750ceb1f12"
      },
      "outputs": [
        {
          "output_type": "stream",
          "name": "stdout",
          "text": [
            "Original Data Types:\n",
            "Violence: float32\n",
            "Non_Violence: float32\n",
            "\n",
            "Converted Data Types:\n",
            "Violence: int64\n",
            "Non_Violence: int64\n"
          ]
        }
      ],
      "source": [
        "import numpy as np\n",
        "\n",
        "\n",
        "# Optionally, check the data types before conversion\n",
        "data2_batch = next(validation_generator)\n",
        "print(\"Original Data Types:\")\n",
        "print(\"Violence:\", data2_batch[0].dtype)\n",
        "print(\"Non_Violence:\", data2_batch[1].dtype)\n",
        "\n",
        "# Convert the image dataset from float32 to int64\n",
        "validation_generator = ((np.array(batch[0], dtype=np.int64), np.array(batch[1], dtype=np.int64)) for batch in validation_generator)\n",
        "\n",
        "# Optionally, check the data types after conversion\n",
        "data2_batch = next(validation_generator)\n",
        "print(\"\\nConverted Data Types:\")\n",
        "print(\"Violence:\", data2_batch[0].dtype)\n",
        "print(\"Non_Violence:\", data2_batch[1].dtype)\n"
      ]
    },
    {
      "cell_type": "code",
      "execution_count": null,
      "metadata": {
        "id": "6hxVUKB0EvhS"
      },
      "outputs": [],
      "source": [
        "model = Sequential()\n",
        "#model = tensorflow.keras.Sequential()"
      ]
    },
    {
      "cell_type": "code",
      "execution_count": null,
      "metadata": {
        "colab": {
          "base_uri": "https://localhost:8080/"
        },
        "id": "qz3L3-7UE6TF",
        "outputId": "cc6c5a0d-98f5-4db1-fd76-b21643ed7b7f"
      },
      "outputs": [
        {
          "output_type": "stream",
          "name": "stdout",
          "text": [
            "Downloading data from https://storage.googleapis.com/tensorflow/keras-applications/resnet/resnet50_weights_tf_dim_ordering_tf_kernels_notop.h5\n",
            "94765736/94765736 [==============================] - 0s 0us/step\n"
          ]
        }
      ],
      "source": [
        "model.add(ResNet50(\n",
        "    include_top=False,\n",
        "    pooling='avg',\n",
        "    weights='imagenet',\n",
        "    ))"
      ]
    },
    {
      "cell_type": "code",
      "execution_count": null,
      "metadata": {
        "id": "bi5eiPN-FG-s"
      },
      "outputs": [],
      "source": [
        "model.add(Dense(num_classes, activation='softmax'))"
      ]
    },
    {
      "cell_type": "code",
      "execution_count": null,
      "metadata": {
        "colab": {
          "base_uri": "https://localhost:8080/"
        },
        "id": "hvt2iUOOFRGI",
        "outputId": "b050509b-cb69-46f7-858d-1672164bd7a0"
      },
      "outputs": [
        {
          "output_type": "execute_result",
          "data": {
            "text/plain": [
              "[<keras.src.engine.functional.Functional at 0x7c21f3f0ad10>,\n",
              " <keras.src.layers.core.dense.Dense at 0x7c2200652fe0>]"
            ]
          },
          "metadata": {},
          "execution_count": 14
        }
      ],
      "source": [
        "model.layers"
      ]
    },
    {
      "cell_type": "code",
      "execution_count": null,
      "metadata": {
        "colab": {
          "base_uri": "https://localhost:8080/"
        },
        "id": "Uo70vfekFpEv",
        "outputId": "e1a13a54-d75c-473c-978b-e0b156a82bbe"
      },
      "outputs": [
        {
          "output_type": "execute_result",
          "data": {
            "text/plain": [
              "[<keras.src.engine.input_layer.InputLayer at 0x7c22006533a0>,\n",
              " <keras.src.layers.reshaping.zero_padding2d.ZeroPadding2D at 0x7c2200653490>,\n",
              " <keras.src.layers.convolutional.conv2d.Conv2D at 0x7c2200653be0>,\n",
              " <keras.src.layers.normalization.batch_normalization.BatchNormalization at 0x7c2202e685b0>,\n",
              " <keras.src.layers.core.activation.Activation at 0x7c2200653ee0>,\n",
              " <keras.src.layers.reshaping.zero_padding2d.ZeroPadding2D at 0x7c2202e68d90>,\n",
              " <keras.src.layers.pooling.max_pooling2d.MaxPooling2D at 0x7c2202e6a230>,\n",
              " <keras.src.layers.convolutional.conv2d.Conv2D at 0x7c2202e6a0b0>,\n",
              " <keras.src.layers.normalization.batch_normalization.BatchNormalization at 0x7c2202e695a0>,\n",
              " <keras.src.layers.core.activation.Activation at 0x7c220275a050>,\n",
              " <keras.src.layers.convolutional.conv2d.Conv2D at 0x7c2202758370>,\n",
              " <keras.src.layers.normalization.batch_normalization.BatchNormalization at 0x7c220275a6e0>,\n",
              " <keras.src.layers.core.activation.Activation at 0x7c220275b610>,\n",
              " <keras.src.layers.convolutional.conv2d.Conv2D at 0x7c2202e6afb0>,\n",
              " <keras.src.layers.convolutional.conv2d.Conv2D at 0x7c2202759ed0>,\n",
              " <keras.src.layers.normalization.batch_normalization.BatchNormalization at 0x7c2202e6b160>,\n",
              " <keras.src.layers.normalization.batch_normalization.BatchNormalization at 0x7c220275b100>,\n",
              " <keras.src.layers.merging.add.Add at 0x7c22027584c0>,\n",
              " <keras.src.layers.core.activation.Activation at 0x7c220275e290>,\n",
              " <keras.src.layers.convolutional.conv2d.Conv2D at 0x7c220275ef50>,\n",
              " <keras.src.layers.normalization.batch_normalization.BatchNormalization at 0x7c220275f9d0>,\n",
              " <keras.src.layers.core.activation.Activation at 0x7c220275f940>,\n",
              " <keras.src.layers.convolutional.conv2d.Conv2D at 0x7c22027803d0>,\n",
              " <keras.src.layers.normalization.batch_normalization.BatchNormalization at 0x7c22027808e0>,\n",
              " <keras.src.layers.core.activation.Activation at 0x7c2202782920>,\n",
              " <keras.src.layers.convolutional.conv2d.Conv2D at 0x7c2202782dd0>,\n",
              " <keras.src.layers.normalization.batch_normalization.BatchNormalization at 0x7c22027834f0>,\n",
              " <keras.src.layers.merging.add.Add at 0x7c2202783dc0>,\n",
              " <keras.src.layers.core.activation.Activation at 0x7c220279d090>,\n",
              " <keras.src.layers.convolutional.conv2d.Conv2D at 0x7c220279c280>,\n",
              " <keras.src.layers.normalization.batch_normalization.BatchNormalization at 0x7c220279d990>,\n",
              " <keras.src.layers.core.activation.Activation at 0x7c220279f400>,\n",
              " <keras.src.layers.convolutional.conv2d.Conv2D at 0x7c220279f8b0>,\n",
              " <keras.src.layers.normalization.batch_normalization.BatchNormalization at 0x7c220279ffa0>,\n",
              " <keras.src.layers.core.activation.Activation at 0x7c220279f730>,\n",
              " <keras.src.layers.convolutional.conv2d.Conv2D at 0x7c22027b5540>,\n",
              " <keras.src.layers.normalization.batch_normalization.BatchNormalization at 0x7c220279ebf0>,\n",
              " <keras.src.layers.merging.add.Add at 0x7c220279ccd0>,\n",
              " <keras.src.layers.core.activation.Activation at 0x7c2202782ec0>,\n",
              " <keras.src.layers.convolutional.conv2d.Conv2D at 0x7c2202759330>,\n",
              " <keras.src.layers.normalization.batch_normalization.BatchNormalization at 0x7c22027b55d0>,\n",
              " <keras.src.layers.core.activation.Activation at 0x7c2202782b00>,\n",
              " <keras.src.layers.convolutional.conv2d.Conv2D at 0x7c22027b7700>,\n",
              " <keras.src.layers.normalization.batch_normalization.BatchNormalization at 0x7c22027d5d80>,\n",
              " <keras.src.layers.core.activation.Activation at 0x7c22027d4910>,\n",
              " <keras.src.layers.convolutional.conv2d.Conv2D at 0x7c220275d6f0>,\n",
              " <keras.src.layers.convolutional.conv2d.Conv2D at 0x7c22027d7070>,\n",
              " <keras.src.layers.normalization.batch_normalization.BatchNormalization at 0x7c2202782bf0>,\n",
              " <keras.src.layers.normalization.batch_normalization.BatchNormalization at 0x7c22027d71f0>,\n",
              " <keras.src.layers.merging.add.Add at 0x7c22027d7e50>,\n",
              " <keras.src.layers.core.activation.Activation at 0x7c22027e4e20>,\n",
              " <keras.src.layers.convolutional.conv2d.Conv2D at 0x7c22027e5b10>,\n",
              " <keras.src.layers.normalization.batch_normalization.BatchNormalization at 0x7c22027e6560>,\n",
              " <keras.src.layers.core.activation.Activation at 0x7c22027e6fe0>,\n",
              " <keras.src.layers.convolutional.conv2d.Conv2D at 0x7c22027e74c0>,\n",
              " <keras.src.layers.normalization.batch_normalization.BatchNormalization at 0x7c22027e6ce0>,\n",
              " <keras.src.layers.core.activation.Activation at 0x7c22027e77f0>,\n",
              " <keras.src.layers.convolutional.conv2d.Conv2D at 0x7c22027fd510>,\n",
              " <keras.src.layers.normalization.batch_normalization.BatchNormalization at 0x7c22027fd960>,\n",
              " <keras.src.layers.merging.add.Add at 0x7c22027fe920>,\n",
              " <keras.src.layers.core.activation.Activation at 0x7c22027ffcd0>,\n",
              " <keras.src.layers.convolutional.conv2d.Conv2D at 0x7c22027fdcc0>,\n",
              " <keras.src.layers.normalization.batch_normalization.BatchNormalization at 0x7c22027fdc90>,\n",
              " <keras.src.layers.core.activation.Activation at 0x7c220002da50>,\n",
              " <keras.src.layers.convolutional.conv2d.Conv2D at 0x7c220002e260>,\n",
              " <keras.src.layers.normalization.batch_normalization.BatchNormalization at 0x7c220002c5e0>,\n",
              " <keras.src.layers.core.activation.Activation at 0x7c220002caf0>,\n",
              " <keras.src.layers.convolutional.conv2d.Conv2D at 0x7c220002c640>,\n",
              " <keras.src.layers.normalization.batch_normalization.BatchNormalization at 0x7c220002dfc0>,\n",
              " <keras.src.layers.merging.add.Add at 0x7c220002ef80>,\n",
              " <keras.src.layers.core.activation.Activation at 0x7c22027ff760>,\n",
              " <keras.src.layers.convolutional.conv2d.Conv2D at 0x7c22027e4130>,\n",
              " <keras.src.layers.normalization.batch_normalization.BatchNormalization at 0x7c220002c4c0>,\n",
              " <keras.src.layers.core.activation.Activation at 0x7c22027fd6f0>,\n",
              " <keras.src.layers.convolutional.conv2d.Conv2D at 0x7c22027b53f0>,\n",
              " <keras.src.layers.normalization.batch_normalization.BatchNormalization at 0x7c22027d4310>,\n",
              " <keras.src.layers.core.activation.Activation at 0x7c22027d6470>,\n",
              " <keras.src.layers.convolutional.conv2d.Conv2D at 0x7c220003ee90>,\n",
              " <keras.src.layers.normalization.batch_normalization.BatchNormalization at 0x7c220003fe80>,\n",
              " <keras.src.layers.merging.add.Add at 0x7c220003e1d0>,\n",
              " <keras.src.layers.core.activation.Activation at 0x7c2200051450>,\n",
              " <keras.src.layers.convolutional.conv2d.Conv2D at 0x7c2200053910>,\n",
              " <keras.src.layers.normalization.batch_normalization.BatchNormalization at 0x7c2200053f10>,\n",
              " <keras.src.layers.core.activation.Activation at 0x7c2200053970>,\n",
              " <keras.src.layers.convolutional.conv2d.Conv2D at 0x7c220005d420>,\n",
              " <keras.src.layers.normalization.batch_normalization.BatchNormalization at 0x7c220005e560>,\n",
              " <keras.src.layers.core.activation.Activation at 0x7c220005f1c0>,\n",
              " <keras.src.layers.convolutional.conv2d.Conv2D at 0x7c22000508b0>,\n",
              " <keras.src.layers.convolutional.conv2d.Conv2D at 0x7c220005dcf0>,\n",
              " <keras.src.layers.normalization.batch_normalization.BatchNormalization at 0x7c2200051e10>,\n",
              " <keras.src.layers.normalization.batch_normalization.BatchNormalization at 0x7c220005f880>,\n",
              " <keras.src.layers.merging.add.Add at 0x7c220005f850>,\n",
              " <keras.src.layers.core.activation.Activation at 0x7c2200074640>,\n",
              " <keras.src.layers.convolutional.conv2d.Conv2D at 0x7c2200076410>,\n",
              " <keras.src.layers.normalization.batch_normalization.BatchNormalization at 0x7c2200076e60>,\n",
              " <keras.src.layers.core.activation.Activation at 0x7c22000778e0>,\n",
              " <keras.src.layers.convolutional.conv2d.Conv2D at 0x7c2200074310>,\n",
              " <keras.src.layers.normalization.batch_normalization.BatchNormalization at 0x7c2200077c70>,\n",
              " <keras.src.layers.core.activation.Activation at 0x7c22000777f0>,\n",
              " <keras.src.layers.convolutional.conv2d.Conv2D at 0x7c220008e380>,\n",
              " <keras.src.layers.normalization.batch_normalization.BatchNormalization at 0x7c220008e710>,\n",
              " <keras.src.layers.merging.add.Add at 0x7c220008f1c0>,\n",
              " <keras.src.layers.core.activation.Activation at 0x7c220008e110>,\n",
              " <keras.src.layers.convolutional.conv2d.Conv2D at 0x7c220008de70>,\n",
              " <keras.src.layers.normalization.batch_normalization.BatchNormalization at 0x7c22000521a0>,\n",
              " <keras.src.layers.core.activation.Activation at 0x7c22000500a0>,\n",
              " <keras.src.layers.convolutional.conv2d.Conv2D at 0x7c220008e0b0>,\n",
              " <keras.src.layers.normalization.batch_normalization.BatchNormalization at 0x7c22027b5810>,\n",
              " <keras.src.layers.core.activation.Activation at 0x7c220005e830>,\n",
              " <keras.src.layers.convolutional.conv2d.Conv2D at 0x7c22000a55d0>,\n",
              " <keras.src.layers.normalization.batch_normalization.BatchNormalization at 0x7c22000a5780>,\n",
              " <keras.src.layers.merging.add.Add at 0x7c22000a6a40>,\n",
              " <keras.src.layers.core.activation.Activation at 0x7c22000a7550>,\n",
              " <keras.src.layers.convolutional.conv2d.Conv2D at 0x7c22000a7760>,\n",
              " <keras.src.layers.normalization.batch_normalization.BatchNormalization at 0x7c22000a51e0>,\n",
              " <keras.src.layers.core.activation.Activation at 0x7c22000a9720>,\n",
              " <keras.src.layers.convolutional.conv2d.Conv2D at 0x7c22000a9bd0>,\n",
              " <keras.src.layers.normalization.batch_normalization.BatchNormalization at 0x7c22000aa2f0>,\n",
              " <keras.src.layers.core.activation.Activation at 0x7c22000abb80>,\n",
              " <keras.src.layers.convolutional.conv2d.Conv2D at 0x7c22000ab820>,\n",
              " <keras.src.layers.normalization.batch_normalization.BatchNormalization at 0x7c22000aa890>,\n",
              " <keras.src.layers.merging.add.Add at 0x7c22000aba90>,\n",
              " <keras.src.layers.core.activation.Activation at 0x7c22000be170>,\n",
              " <keras.src.layers.convolutional.conv2d.Conv2D at 0x7c22000bccd0>,\n",
              " <keras.src.layers.normalization.batch_normalization.BatchNormalization at 0x7c22000bebf0>,\n",
              " <keras.src.layers.core.activation.Activation at 0x7c22000bdf00>,\n",
              " <keras.src.layers.convolutional.conv2d.Conv2D at 0x7c22000d4730>,\n",
              " <keras.src.layers.normalization.batch_normalization.BatchNormalization at 0x7c22000d5000>,\n",
              " <keras.src.layers.core.activation.Activation at 0x7c22000d6620>,\n",
              " <keras.src.layers.convolutional.conv2d.Conv2D at 0x7c22000d5930>,\n",
              " <keras.src.layers.normalization.batch_normalization.BatchNormalization at 0x7c22000d6c20>,\n",
              " <keras.src.layers.merging.add.Add at 0x7c22000d7c10>,\n",
              " <keras.src.layers.core.activation.Activation at 0x7c22000f4460>,\n",
              " <keras.src.layers.convolutional.conv2d.Conv2D at 0x7c22000f5a50>,\n",
              " <keras.src.layers.normalization.batch_normalization.BatchNormalization at 0x7c22000f53f0>,\n",
              " <keras.src.layers.core.activation.Activation at 0x7c22000f49d0>,\n",
              " <keras.src.layers.convolutional.conv2d.Conv2D at 0x7c22000f58a0>,\n",
              " <keras.src.layers.normalization.batch_normalization.BatchNormalization at 0x7c22000f71f0>,\n",
              " <keras.src.layers.core.activation.Activation at 0x7c22000d48b0>,\n",
              " <keras.src.layers.convolutional.conv2d.Conv2D at 0x7c22000be290>,\n",
              " <keras.src.layers.normalization.batch_normalization.BatchNormalization at 0x7c22000bdd50>,\n",
              " <keras.src.layers.merging.add.Add at 0x7c22000bfbe0>,\n",
              " <keras.src.layers.core.activation.Activation at 0x7c22000f5bd0>,\n",
              " <keras.src.layers.convolutional.conv2d.Conv2D at 0x7c21f3f06770>,\n",
              " <keras.src.layers.normalization.batch_normalization.BatchNormalization at 0x7c21f3f065c0>,\n",
              " <keras.src.layers.core.activation.Activation at 0x7c21f3f07250>,\n",
              " <keras.src.layers.convolutional.conv2d.Conv2D at 0x7c21f3f07e80>,\n",
              " <keras.src.layers.normalization.batch_normalization.BatchNormalization at 0x7c21f3f07640>,\n",
              " <keras.src.layers.core.activation.Activation at 0x7c21f3f07e20>,\n",
              " <keras.src.layers.convolutional.conv2d.Conv2D at 0x7c21f3f04040>,\n",
              " <keras.src.layers.convolutional.conv2d.Conv2D at 0x7c21f3f09a20>,\n",
              " <keras.src.layers.normalization.batch_normalization.BatchNormalization at 0x7c21f3f04c70>,\n",
              " <keras.src.layers.normalization.batch_normalization.BatchNormalization at 0x7c21f3f0afe0>,\n",
              " <keras.src.layers.merging.add.Add at 0x7c21f3f075b0>,\n",
              " <keras.src.layers.core.activation.Activation at 0x7c21f3f0ba30>,\n",
              " <keras.src.layers.convolutional.conv2d.Conv2D at 0x7c21f3f0bd60>,\n",
              " <keras.src.layers.normalization.batch_normalization.BatchNormalization at 0x7c21f3f0bf70>,\n",
              " <keras.src.layers.core.activation.Activation at 0x7c21f3f08b80>,\n",
              " <keras.src.layers.convolutional.conv2d.Conv2D at 0x7c21f3f22020>,\n",
              " <keras.src.layers.normalization.batch_normalization.BatchNormalization at 0x7c21f3f22d70>,\n",
              " <keras.src.layers.core.activation.Activation at 0x7c21f3f21150>,\n",
              " <keras.src.layers.convolutional.conv2d.Conv2D at 0x7c21f3f230d0>,\n",
              " <keras.src.layers.normalization.batch_normalization.BatchNormalization at 0x7c21f3f20130>,\n",
              " <keras.src.layers.merging.add.Add at 0x7c21f3f21360>,\n",
              " <keras.src.layers.core.activation.Activation at 0x7c21f3f23c40>,\n",
              " <keras.src.layers.convolutional.conv2d.Conv2D at 0x7c21f3f40610>,\n",
              " <keras.src.layers.normalization.batch_normalization.BatchNormalization at 0x7c21f3f20340>,\n",
              " <keras.src.layers.core.activation.Activation at 0x7c21f3f41210>,\n",
              " <keras.src.layers.convolutional.conv2d.Conv2D at 0x7c21f3f41450>,\n",
              " <keras.src.layers.normalization.batch_normalization.BatchNormalization at 0x7c21f3f43730>,\n",
              " <keras.src.layers.core.activation.Activation at 0x7c21f3f418a0>,\n",
              " <keras.src.layers.convolutional.conv2d.Conv2D at 0x7c21f3f425c0>,\n",
              " <keras.src.layers.normalization.batch_normalization.BatchNormalization at 0x7c21f3f402e0>,\n",
              " <keras.src.layers.merging.add.Add at 0x7c21f3f23070>,\n",
              " <keras.src.layers.core.activation.Activation at 0x7c21f3f22710>,\n",
              " <keras.src.layers.pooling.global_average_pooling2d.GlobalAveragePooling2D at 0x7c21f3f42140>]"
            ]
          },
          "metadata": {},
          "execution_count": 15
        }
      ],
      "source": [
        "model.layers[0].layers"
      ]
    },
    {
      "cell_type": "code",
      "execution_count": null,
      "metadata": {
        "id": "SKyfU84gFtl7"
      },
      "outputs": [],
      "source": [
        "model.layers[0].trainable = False"
      ]
    },
    {
      "cell_type": "code",
      "execution_count": null,
      "metadata": {
        "colab": {
          "base_uri": "https://localhost:8080/"
        },
        "id": "jaM0PeMFGAIx",
        "outputId": "a8f7db2e-8aac-49ea-eacf-7e43e2a9d175"
      },
      "outputs": [
        {
          "output_type": "stream",
          "name": "stdout",
          "text": [
            "Model: \"sequential\"\n",
            "_________________________________________________________________\n",
            " Layer (type)                Output Shape              Param #   \n",
            "=================================================================\n",
            " resnet50 (Functional)       (None, 2048)              23587712  \n",
            "                                                                 \n",
            " dense (Dense)               (None, 2)                 4098      \n",
            "                                                                 \n",
            "=================================================================\n",
            "Total params: 23591810 (90.00 MB)\n",
            "Trainable params: 4098 (16.01 KB)\n",
            "Non-trainable params: 23587712 (89.98 MB)\n",
            "_________________________________________________________________\n"
          ]
        }
      ],
      "source": [
        "model.summary()"
      ]
    },
    {
      "cell_type": "code",
      "execution_count": null,
      "metadata": {
        "id": "_e1GlqRSGOPu"
      },
      "outputs": [],
      "source": [
        "model.compile(optimizer='adam', loss='categorical_crossentropy', metrics=['accuracy'])"
      ]
    },
    {
      "cell_type": "code",
      "execution_count": null,
      "metadata": {
        "id": "sayf2zS3NpQ6"
      },
      "outputs": [],
      "source": [
        "total_samples_training = 2337\n",
        "total_samples_validation = 662  # Replace with the total number of validation samples\n",
        "\n",
        "\n",
        "steps_per_epoch_training = total_samples_training // batch_size_training\n",
        "steps_per_epoch_validation = total_samples_validation // batch_size_validation\n",
        "\n",
        "num_epochs = 10"
      ]
    },
    {
      "cell_type": "code",
      "execution_count": null,
      "metadata": {
        "colab": {
          "base_uri": "https://localhost:8080/"
        },
        "id": "31a1O_ctG_ft",
        "outputId": "e864e51a-dde1-4129-ff74-4f8a2042ef98"
      },
      "outputs": [
        {
          "output_type": "stream",
          "name": "stdout",
          "text": [
            "Epoch 1/10\n",
            "23/23 [==============================] - 34s 1s/step - loss: 0.2796 - accuracy: 0.9285 - val_loss: 0.1874 - val_accuracy: 0.9537\n",
            "Epoch 2/10\n",
            "23/23 [==============================] - 13s 571ms/step - loss: 0.1026 - accuracy: 0.9674 - val_loss: 0.1009 - val_accuracy: 0.9680\n",
            "Epoch 3/10\n",
            "23/23 [==============================] - 13s 569ms/step - loss: 0.0653 - accuracy: 0.9809 - val_loss: 0.0606 - val_accuracy: 0.9875\n",
            "Epoch 4/10\n",
            "23/23 [==============================] - 12s 524ms/step - loss: 0.0458 - accuracy: 0.9875 - val_loss: 0.0621 - val_accuracy: 0.9804\n",
            "Epoch 5/10\n",
            "23/23 [==============================] - 12s 521ms/step - loss: 0.0373 - accuracy: 0.9893 - val_loss: 0.0527 - val_accuracy: 0.9858\n",
            "Epoch 6/10\n",
            "23/23 [==============================] - 12s 518ms/step - loss: 0.0342 - accuracy: 0.9915 - val_loss: 0.0621 - val_accuracy: 0.9786\n",
            "Epoch 7/10\n",
            "23/23 [==============================] - 13s 583ms/step - loss: 0.0213 - accuracy: 0.9942 - val_loss: 0.0348 - val_accuracy: 0.9911\n",
            "Epoch 8/10\n",
            "23/23 [==============================] - 14s 607ms/step - loss: 0.0279 - accuracy: 0.9928 - val_loss: 0.0441 - val_accuracy: 0.9893\n",
            "Epoch 9/10\n",
            "23/23 [==============================] - 12s 518ms/step - loss: 0.0171 - accuracy: 0.9960 - val_loss: 0.0441 - val_accuracy: 0.9911\n",
            "Epoch 10/10\n",
            "23/23 [==============================] - 12s 531ms/step - loss: 0.0190 - accuracy: 0.9960 - val_loss: 0.0468 - val_accuracy: 0.9875\n"
          ]
        }
      ],
      "source": [
        "fit_history = model.fit(\n",
        "    train_generator,\n",
        "    steps_per_epoch=steps_per_epoch_training,\n",
        "    epochs=num_epochs,\n",
        "    validation_data=validation_generator,\n",
        "    validation_steps=steps_per_epoch_validation,\n",
        "    verbose=1,\n",
        ")"
      ]
    },
    {
      "cell_type": "code",
      "execution_count": null,
      "metadata": {
        "id": "LKbTKNVeTHma"
      },
      "outputs": [],
      "source": [
        "model.save('resnet_50.keras')"
      ]
    },
    {
      "cell_type": "code",
      "execution_count": null,
      "metadata": {
        "colab": {
          "base_uri": "https://localhost:8080/"
        },
        "id": "OmFw6vAmUTfI",
        "outputId": "18807a99-c498-4d8b-f8e5-535645d4e931"
      },
      "outputs": [
        {
          "output_type": "stream",
          "name": "stdout",
          "text": [
            "Found 334 images belonging to 2 classes.\n"
          ]
        }
      ],
      "source": [
        "test_generator = data_generator.flow_from_directory(\n",
        "    '/content/test',\n",
        "    target_size=(image_resize, image_resize),\n",
        "    shuffle=False)"
      ]
    },
    {
      "cell_type": "code",
      "execution_count": null,
      "metadata": {
        "id": "BAi9R1UJUxi7"
      },
      "outputs": [],
      "source": [
        "steps_per_epoch_test = 334/ batch_size_validation"
      ]
    },
    {
      "cell_type": "code",
      "execution_count": null,
      "metadata": {
        "colab": {
          "base_uri": "https://localhost:8080/"
        },
        "id": "cb08Sr4eUJK4",
        "outputId": "f979f45e-7d93-4f1d-cb81-f6380578e8fc"
      },
      "outputs": [
        {
          "output_type": "stream",
          "name": "stdout",
          "text": [
            "3/3 [==============================] - 4s 146ms/step - loss: 0.0350 - accuracy: 0.9844\n"
          ]
        }
      ],
      "source": [
        "score=model.evaluate(test_generator, steps=steps_per_epoch_test)"
      ]
    },
    {
      "cell_type": "code",
      "execution_count": null,
      "metadata": {
        "colab": {
          "base_uri": "https://localhost:8080/"
        },
        "id": "o6cCl_ZFVUAW",
        "outputId": "030f56b5-4f42-4428-ec90-a114dca54369"
      },
      "outputs": [
        {
          "output_type": "stream",
          "name": "stdout",
          "text": [
            "Accuracy of ResNet50: 0.984375% \n",
            " Error: 0.015625\n"
          ]
        }
      ],
      "source": [
        "print('Accuracy of ResNet50: {}% \\n Error: {}'.format(score[1], 1 - score[1]))"
      ]
    },
    {
      "cell_type": "markdown",
      "metadata": {
        "id": "0pmP8cl1xFW7"
      },
      "source": [
        "Step 3:\n",
        "TESTING"
      ]
    },
    {
      "cell_type": "code",
      "execution_count": null,
      "metadata": {
        "id": "Z6VXggiLIw1f"
      },
      "outputs": [],
      "source": [
        "import numpy as np"
      ]
    },
    {
      "cell_type": "code",
      "execution_count": null,
      "metadata": {
        "colab": {
          "base_uri": "https://localhost:8080/"
        },
        "id": "edrPkG69I1Xz",
        "outputId": "d603657f-2554-4d44-a74e-dae0224a5984"
      },
      "outputs": [
        {
          "output_type": "stream",
          "name": "stdout",
          "text": [
            "3/3 [==============================] - 1s 153ms/step\n"
          ]
        }
      ],
      "source": [
        "predict = model.predict(test_generator, steps=steps_per_epoch_test)"
      ]
    },
    {
      "cell_type": "code",
      "execution_count": null,
      "metadata": {
        "colab": {
          "base_uri": "https://localhost:8080/"
        },
        "id": "4xJRpFhExhvE",
        "outputId": "5a9dfdd5-a5eb-49bb-f74c-fd63e77a8ed6"
      },
      "outputs": [
        {
          "output_type": "stream",
          "name": "stdout",
          "text": [
            "The list of classes:  ['Non_Violence', 'Violence']\n"
          ]
        }
      ],
      "source": [
        "# get the dictionary of classes\n",
        "label2index = test_generator.class_indices\n",
        "\n",
        "# obtain the list of classes\n",
        "list_of_label = list(label2index.keys())\n",
        "print(\"The list of classes: \", list_of_label)"
      ]
    },
    {
      "cell_type": "code",
      "execution_count": null,
      "metadata": {
        "colab": {
          "base_uri": "https://localhost:8080/"
        },
        "id": "Lhgh9aBUKg3z",
        "outputId": "f216d9f7-6959-483b-bfba-dbe35c862e09"
      },
      "outputs": [
        {
          "output_type": "stream",
          "name": "stdout",
          "text": [
            "ResNet50 Predictions :\n",
            "Prediction :Non_Violence\n",
            "Prediction :Non_Violence\n",
            "Prediction :Non_Violence\n",
            "Prediction :Non_Violence\n",
            "Prediction :Violence\n"
          ]
        }
      ],
      "source": [
        "print(\"ResNet50 Predictions :\")\n",
        "for i in range(0,5):\n",
        "    pred_class = np.argmax(predict[i])\n",
        "    pred_label = list_of_label[pred_class]\n",
        "    print('Prediction :{}'.format(\n",
        "        pred_label,\n",
        "        predict[i][pred_class]))"
      ]
    },
    {
      "cell_type": "code",
      "execution_count": null,
      "metadata": {
        "colab": {
          "base_uri": "https://localhost:8080/"
        },
        "id": "hDY8x4c33wpz",
        "outputId": "026c0c76-1e5b-4ce3-e8b9-5249546cbf3c"
      },
      "outputs": [
        {
          "output_type": "stream",
          "name": "stdout",
          "text": [
            "1/1 [==============================] - 1s 690ms/step\n",
            "Prediction for NV_766_F96_jpg.rf.833d1bff7b28d1ef97bd07dcd6d5a04a.jpg: Violence with confidence 0.7924666404724121\n",
            "Prediction for NV_446_F48_jpg.rf.abeb00bc3519ab29e26ce98e38169238.jpg: Non_Violence with confidence 0.5433090925216675\n",
            "Prediction for NV_85_F72_jpg.rf.cf7348fc24c8bd7da8233635ea684142.jpg: Violence with confidence 0.5647848844528198\n",
            "Prediction for NV_118_F80_jpg.rf.5f026eb4e5fa11b1a988698804795889.jpg: Non_Violence with confidence 0.9191617369651794\n",
            "Prediction for NV_41_F36_jpg.rf.08199d8573807950c984b066d1dd49c0.jpg: Non_Violence with confidence 0.775100588798523\n"
          ]
        }
      ],
      "source": [
        "import os\n",
        "import random\n",
        "from PIL import Image\n",
        "import numpy as np\n",
        "\n",
        "# Path to your test directory\n",
        "test_directory = '/content/test/Non-Violence'\n",
        "\n",
        "# Get a list of all image files in the test directory\n",
        "image_files = [f for f in os.listdir(test_directory) if f.lower().endswith(('.png', '.jpg', '.jpeg', '.gif', '.bmp'))]\n",
        "\n",
        "# Choose a random subset of images (e.g., 5 images)\n",
        "num_images_to_choose = 5\n",
        "random_images = random.sample(image_files, num_images_to_choose)\n",
        "\n",
        "# Load and preprocess the random images\n",
        "random_images_data = []\n",
        "for image_file in random_images:\n",
        "    image_path = os.path.join(test_directory, image_file)\n",
        "    img = Image.open(image_path)\n",
        "    img = img.resize((224, 224))  # Resize to match the input size expected by the model\n",
        "    img_array = np.array(img)\n",
        "    # Preprocess the image (normalize pixel values, expand dimensions, etc.)\n",
        "    # ... (use the same preprocessing steps applied during training)\n",
        "    random_images_data.append(img_array)\n",
        "\n",
        "# Convert the list of images to a NumPy array\n",
        "random_images_data = np.array(random_images_data)\n",
        "\n",
        "# Make predictions\n",
        "predictions = model.predict(random_images_data)\n",
        "\n",
        "# Print predictions\n",
        "for i in range(num_images_to_choose):\n",
        "    pred_class = np.argmax(predictions[i])\n",
        "    pred_label = list_of_label[pred_class]\n",
        "    confidence = predictions[i][pred_class]\n",
        "    print(f\"Prediction for {random_images[i]}: {pred_label} with confidence {confidence}\")"
      ]
    },
    {
      "cell_type": "markdown",
      "source": [
        "Graph\n"
      ],
      "metadata": {
        "id": "W4h9A_8Til3L"
      }
    },
    {
      "cell_type": "code",
      "source": [
        "fit_history2 = model.fit(\n",
        "    test_generator,\n",
        "    steps_per_epoch=steps_per_epoch_test,\n",
        "    epochs=num_epochs,\n",
        "    verbose=1,\n",
        ")"
      ],
      "metadata": {
        "colab": {
          "base_uri": "https://localhost:8080/"
        },
        "id": "iJ1V5GeBioIz",
        "outputId": "76147c63-3019-477d-a146-59f8ac6ed356"
      },
      "execution_count": null,
      "outputs": [
        {
          "output_type": "stream",
          "name": "stdout",
          "text": [
            "Epoch 1/10\n",
            "3/3 [==============================] - 3s 145ms/step - loss: 0.0160 - accuracy: 1.0000\n",
            "Epoch 2/10\n",
            "3/3 [==============================] - 0s 170ms/step - loss: 0.1524 - accuracy: 0.9182\n",
            "Epoch 3/10\n",
            "3/3 [==============================] - 1s 212ms/step - loss: 0.0221 - accuracy: 0.9909\n",
            "Epoch 4/10\n",
            "3/3 [==============================] - 1s 139ms/step - loss: 0.0695 - accuracy: 0.9727\n",
            "Epoch 5/10\n",
            "3/3 [==============================] - 1s 187ms/step - loss: 0.0061 - accuracy: 1.0000\n",
            "Epoch 6/10\n",
            "3/3 [==============================] - 1s 175ms/step - loss: 2.7384e-04 - accuracy: 1.0000\n",
            "Epoch 7/10\n",
            "3/3 [==============================] - 1s 178ms/step - loss: 0.2997 - accuracy: 0.8727\n",
            "Epoch 8/10\n",
            "3/3 [==============================] - 1s 150ms/step - loss: 0.0154 - accuracy: 1.0000\n",
            "Epoch 9/10\n",
            "3/3 [==============================] - 1s 149ms/step - loss: 0.1824 - accuracy: 0.9531\n",
            "Epoch 10/10\n",
            "3/3 [==============================] - 0s 122ms/step - loss: 0.0172 - accuracy: 0.9909\n"
          ]
        }
      ]
    },
    {
      "cell_type": "code",
      "source": [
        "import matplotlib.pyplot as plt\n",
        "\n",
        "# Plot training and validation loss\n",
        "plt.plot(fit_history.history['loss'], label='Training Loss')\n",
        "plt.plot(fit_history.history['val_loss'], label='Validation Loss')\n",
        "plt.legend()\n",
        "plt.show()\n",
        "\n",
        "# Plot training and validation accuracy\n",
        "plt.plot(fit_history.history['accuracy'], label='Training Accuracy')\n",
        "plt.legend()\n",
        "plt.show()\n",
        "\n",
        "plt.plot(fit_history.history['val_accuracy'], label='Validation Accuracy')\n",
        "plt.legend()\n",
        "plt.show()"
      ],
      "metadata": {
        "colab": {
          "base_uri": "https://localhost:8080/",
          "height": 1000
        },
        "id": "CgVnWOyGju69",
        "outputId": "d7282df4-4a07-41f8-ccce-945029f52e52"
      },
      "execution_count": null,
      "outputs": [
        {
          "output_type": "display_data",
          "data": {
            "text/plain": [
              "<Figure size 640x480 with 1 Axes>"
            ],
            "image/png": "[encoded data removed]"
          },
          "metadata": {}
        },
        {
          "output_type": "display_data",
          "data": {
            "text/plain": [
              "<Figure size 640x480 with 1 Axes>"
            ],
            "image/png": "[encoded data removed]"
          },
          "metadata": {}
        },
        {
          "output_type": "display_data",
          "data": {
            "text/plain": [
              "<Figure size 640x480 with 1 Axes>"
            ],
            "image/png": "[encoded data removed]"
          },
          "metadata": {}
        }
      ]
    },
    {
      "cell_type": "code",
      "source": [
        "# Plot the test history for accuracy\n",
        "plt.plot(fit_history2.history['accuracy'])\n",
        "plt.title('Model Accuracy on Test Data')\n",
        "plt.xlabel('Epoch')\n",
        "plt.ylabel('Accuracy')\n",
        "plt.show()"
      ],
      "metadata": {
        "colab": {
          "base_uri": "https://localhost:8080/",
          "height": 472
        },
        "id": "9MPihvkNk513",
        "outputId": "7419b3ec-4aa8-4560-fb44-8239d9a932a1"
      },
      "execution_count": null,
      "outputs": [
        {
          "output_type": "display_data",
          "data": {
            "text/plain": [
              "<Figure size 640x480 with 1 Axes>"
            ],
            "image/png": "[encoded data removed]"
          },
          "metadata": {}
        }
      ]
    }
  ],
  "metadata": {
    "colab": {
      "provenance": [],
      "gpuType": "T4",
      "authorship_tag": "ABX9TyMwGVNJvubOYC5J+qVvAHNH",
      "include_colab_link": true
    },
    "kernelspec": {
      "display_name": "Python 3",
      "name": "python3"
    },
    "language_info": {
      "name": "python"
    },
    "accelerator": "GPU"
  },
  "nbformat": 4,
  "nbformat_minor": 0
}